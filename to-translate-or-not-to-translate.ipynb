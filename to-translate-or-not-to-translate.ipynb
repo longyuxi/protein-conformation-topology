{
 "cells": [
  {
   "cell_type": "markdown",
   "metadata": {},
   "source": [
    "## To translate or not to translate\n",
    "\n",
    "Experimentally determining whether translating the ligand coordinates wrt to protein makes a difference"
   ]
  },
  {
   "cell_type": "markdown",
   "metadata": {},
   "source": [
    "### Generate random point clouds in 3-D"
   ]
  },
  {
   "cell_type": "code",
   "execution_count": 1,
   "metadata": {},
   "outputs": [],
   "source": [
    "import numpy as np\n",
    "from dataset import get_mol2_coordinates_by_element, get_pdb_coordinates_by_element\n",
    "from gtda.homology import VietorisRipsPersistence\n",
    "import argparse\n",
    "import pickle\n",
    "from pathlib import Path\n",
    "\n",
    "a = np.random.rand(200, 3)\n",
    "b = np.random.rand(100, 3)"
   ]
  },
  {
   "cell_type": "code",
   "execution_count": 2,
   "metadata": {},
   "outputs": [],
   "source": [
    "def compute_pairwise_opposition_distance(a, b):\n",
    "    output = np.ones((len(a) + len(b), len(a) + len(b))) * np.Inf\n",
    "    for idxa, ra in enumerate(a):\n",
    "        for idxb, rb in enumerate(b):\n",
    "            dist = np.linalg.norm((ra - rb))\n",
    "            output[idxa, len(a) + idxb] = dist\n",
    "            output[len(a) + idxb, idxa] = dist\n",
    "\n",
    "    return output\n",
    "\n",
    "dists = compute_pairwise_opposition_distance(a, b)"
   ]
  },
  {
   "cell_type": "code",
   "execution_count": 3,
   "metadata": {},
   "outputs": [],
   "source": [
    "num_oppositions = 0\n",
    "\n",
    "def opposition_homology(protein_coords, ligand_coords):\n",
    "    global num_oppositions\n",
    "    num_oppositions = 0\n",
    "    if protein_coords is None or ligand_coords is None:\n",
    "        return None\n",
    "\n",
    "    # Track connected components, loops, and voids\n",
    "    homology_dimensions = [0, 1, 2]\n",
    "\n",
    "    # Collapse edges to speed up H2 persistence calculation!\n",
    "    persistence = VietorisRipsPersistence(\n",
    "        metric='precomputed',\n",
    "        homology_dimensions=homology_dimensions,\n",
    "        collapse_edges=True,\n",
    "        max_edge_length=200\n",
    "    )\n",
    "\n",
    "    distances = compute_pairwise_opposition_distance(protein_coords, ligand_coords)\n",
    "    diagrams_basic = persistence.fit_transform(distances[None, :, :])\n",
    "\n",
    "    return diagrams_basic\n",
    "\n",
    "def bin_persistence_diagram(diagram, bins=np.arange(0, 50, 0.25), types_of_homologies=3):\n",
    "    output = np.zeros((len(bins) + 1, types_of_homologies, 3), dtype=np.int32)\n",
    "\n",
    "    if diagram is None:\n",
    "        return output\n",
    "\n",
    "    # Bin persistence diagram\n",
    "    # Binned persistence diagram be in the shape of (len(bins) + 1, types_of_homologies, 3)\n",
    "    #   where the first channel corresponds to each entry,\n",
    "    #   second channel is corresponds to type of homology (Betti-0, Betti-1, ...)\n",
    "    #   third channel corresponds to (birth, persist, death)\n",
    "\n",
    "    diagram = diagram[0]\n",
    "    # Now diagram should be in shape (n, 3) where each row is\n",
    "    #   (birth, death, type_of_homology)\n",
    "\n",
    "    assert len(np.unique(diagram[:, 2])) == types_of_homologies\n",
    "\n",
    "    for entry in diagram:\n",
    "        homology_type = int(entry[2])\n",
    "        # mark the beginning and end bins\n",
    "        begin_bin = np.digitize(entry[0], bins)\n",
    "        output[begin_bin, homology_type, 0] += 1\n",
    "        end_bin = np.digitize(entry[1], bins)\n",
    "        output[end_bin, homology_type, 2] += 1\n",
    "\n",
    "        # mark the middle bins if there are any\n",
    "        if not begin_bin == end_bin:\n",
    "            output[np.arange(begin_bin + 1, end_bin), homology_type, 1] += 1\n",
    "\n",
    "    return output\n",
    "\n",
    "def run(protein_coords, ligand_coords):\n",
    "    diagram = opposition_homology(protein_coords, ligand_coords)\n",
    "    binned_diagram = bin_persistence_diagram(diagram)\n",
    "    return binned_diagram\n"
   ]
  },
  {
   "cell_type": "code",
   "execution_count": 4,
   "metadata": {},
   "outputs": [],
   "source": [
    "o1 = run(a, b)\n",
    "o2 = run(a+3, b)"
   ]
  },
  {
   "cell_type": "code",
   "execution_count": 5,
   "metadata": {},
   "outputs": [
    {
     "data": {
      "text/plain": [
       "(201, 3, 3)"
      ]
     },
     "execution_count": 5,
     "metadata": {},
     "output_type": "execute_result"
    }
   ],
   "source": [
    "o1.shape"
   ]
  },
  {
   "cell_type": "code",
   "execution_count": 6,
   "metadata": {},
   "outputs": [
    {
     "data": {
      "text/plain": [
       "0"
      ]
     },
     "execution_count": 6,
     "metadata": {},
     "output_type": "execute_result"
    }
   ],
   "source": [
    "np.sum(o1[:, 0, :] - o2[:, 0, :])"
   ]
  },
  {
   "cell_type": "markdown",
   "metadata": {},
   "source": [
    "## Conclusion: Empirically, translation does make a difference in Betti-1 and Betti-2, but not in Betti-0."
   ]
  }
 ],
 "metadata": {
  "kernelspec": {
   "display_name": "Python 3.10.6 ('donaldlab')",
   "language": "python",
   "name": "python3"
  },
  "language_info": {
   "codemirror_mode": {
    "name": "ipython",
    "version": 3
   },
   "file_extension": ".py",
   "mimetype": "text/x-python",
   "name": "python",
   "nbconvert_exporter": "python",
   "pygments_lexer": "ipython3",
   "version": "3.10.6"
  },
  "orig_nbformat": 4,
  "vscode": {
   "interpreter": {
    "hash": "557534cb529407e4bbb6eeb3b462491f7db99b590bc53463d0f44d58c15f7da5"
   }
  }
 },
 "nbformat": 4,
 "nbformat_minor": 2
}
