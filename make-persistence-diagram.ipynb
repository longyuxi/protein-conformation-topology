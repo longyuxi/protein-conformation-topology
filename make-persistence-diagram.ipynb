{
 "cells": [
  {
   "cell_type": "markdown",
   "metadata": {},
   "source": [
    "## Dataloader"
   ]
  },
  {
   "cell_type": "markdown",
   "metadata": {},
   "source": [
    "## Create index DataFrame"
   ]
  },
  {
   "cell_type": "code",
   "execution_count": 1,
   "metadata": {},
   "outputs": [],
   "source": [
    "from dataset import load_pdbbind_data_index\n",
    "\n",
    "index_location = '/home/longyuxi/Documents/mount/pdbbind-dataset/index/INDEX_refined_data.2020'\n",
    "index = load_pdbbind_data_index(index_location)\n",
    "\n",
    "## For debug purposes\n",
    "\n",
    "# index = index[:10]\n",
    "# index"
   ]
  },
  {
   "cell_type": "markdown",
   "metadata": {},
   "source": [
    "### Calculating the persistence diagram of each of the coordinates and storing them"
   ]
  },
  {
   "cell_type": "code",
   "execution_count": null,
   "metadata": {},
   "outputs": [],
   "source": [
    "from pathlib import Path\n",
    "\n",
    "# for each item, calculate the persistence homology of it\n",
    "output_folder = 'computed_homologies'\n",
    "\n",
    "# get pdb file for both things\n",
    "base_folder = Path(index_location).parent.parent / 'refined-set'\n",
    "\n",
    "# list of commands to be run by GNU parallel\n",
    "python_interpreter = '/home/longyuxi/miniconda3/envs/donaldlab/bin/python'\n",
    "homology_calculator_location = '/home/longyuxi/Documents/protein-conformation-topology/calculate_homology.py'\n",
    "pairwise_opposition_homology_calculator_location = '/home/longyuxi/Documents/protein-conformation-topology/calculate_pairwise_opposition_homologies_binned.py'\n",
    "\n",
    "# for any of the files, if they don't exist, calculate homology for it\n",
    "commands = ''\n",
    "for idx, row in index.iterrows():\n",
    "    pdb_name = row['PDB code']\n",
    "    diagram_output_folder = Path(output_folder) / pdb_name\n",
    "    diagram_output_folder.mkdir(parents=True, exist_ok=True)\n",
    "    pocket_pdb = base_folder / pdb_name / f'{pdb_name}_pocket.pdb'\n",
    "    protein_pdb = base_folder / pdb_name / f'{pdb_name}_protein.pdb'\n",
    "    ligand_mol2 = base_folder / pdb_name / f'{pdb_name}_ligand.mol2'\n",
    "\n",
    "    # # protein\n",
    "    # if not (diagram_output_folder / 'protein.pckl').is_file():\n",
    "    #     commands += f'{python_interpreter} {homology_calculator_location} --input {str(protein_pdb)} --output {str(diagram_output_folder / \"protein.pckl\")}\\n'\n",
    "\n",
    "    # # pocket\n",
    "    # if not (diagram_output_folder / 'pocket.pckl').is_file():\n",
    "    #     commands += f'{python_interpreter} {homology_calculator_location} --input {str(pocket_pdb)} --output {str(diagram_output_folder / \"pocket.pckl\")}\\n'\n",
    "\n",
    "\n",
    "    # # ligand\n",
    "    # if not (diagram_output_folder / 'ligand.pckl').is_file():\n",
    "    #     commands += f'{python_interpreter} {homology_calculator_location} --input {str(ligand_mol2)} --output {str(diagram_output_folder / \"ligand.pckl\")}\\n'\n",
    "\n",
    "    # pairwise opposition homology\n",
    "    if not (diagram_output_folder / 'pairwise_opposition.pckl').is_file():\n",
    "        commands += f'{python_interpreter} {pairwise_opposition_homology_calculator_location} --protein {str(protein_pdb)} --ligand {str(ligand_mol2)} --output {str(diagram_output_folder / \"pairwise_opposition.pckl\")}\\n'\n",
    "\n",
    "\n",
    "\n",
    "with open('cmds.tmp', 'w') as cf:\n",
    "    cf.write(commands)\n",
    "\n",
    "# Then run the following in terminal\n",
    "#   time parallel -j 10 --eta < cmds.tmp"
   ]
  },
  {
   "cell_type": "markdown",
   "metadata": {},
   "source": [
    "### Vietoris-Rips persistence with opposition disatnce"
   ]
  },
  {
   "cell_type": "markdown",
   "metadata": {},
   "source": [
    "##### Opposition distance calculation\n",
    "$d_{op}(a_i, a_j) = $ Euclidean distance if one atom comes from protein and the other from ligand, else $\\infty$."
   ]
  },
  {
   "cell_type": "markdown",
   "metadata": {},
   "source": [
    "Trick: append each atom coordinates with 0 for protein, 1 for ligand."
   ]
  },
  {
   "cell_type": "markdown",
   "metadata": {},
   "source": [
    "**Question**: Does it matter where the proteins and ligands are placed relatively?"
   ]
  },
  {
   "cell_type": "code",
   "execution_count": null,
   "metadata": {},
   "outputs": [],
   "source": [
    "import pickle\n",
    "\n",
    "v = pickle.load(open('/home/longyuxi/Documents/protein-conformation-topology/computed_homologies/2w8w/pairwise_opposition.pckl', 'rb'))"
   ]
  }
 ],
 "metadata": {
  "kernelspec": {
   "display_name": "Python 3.10.6 ('donaldlab')",
   "language": "python",
   "name": "python3"
  },
  "language_info": {
   "codemirror_mode": {
    "name": "ipython",
    "version": 3
   },
   "file_extension": ".py",
   "mimetype": "text/x-python",
   "name": "python",
   "nbconvert_exporter": "python",
   "pygments_lexer": "ipython3",
   "version": "3.10.6"
  },
  "orig_nbformat": 4,
  "vscode": {
   "interpreter": {
    "hash": "eb053224fcc5015ed8da6d479f2102b8601d2425275cb1ee3d0a28d0e1b86f1a"
   }
  }
 },
 "nbformat": 4,
 "nbformat_minor": 2
}
