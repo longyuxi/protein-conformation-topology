{
 "cells": [
  {
   "cell_type": "markdown",
   "metadata": {},
   "source": [
    "## Dataloader"
   ]
  },
  {
   "cell_type": "markdown",
   "metadata": {},
   "source": [
    "## Create index DataFrame"
   ]
  },
  {
   "cell_type": "code",
   "execution_count": 1,
   "metadata": {},
   "outputs": [
    {
     "data": {
      "text/html": [
       "<div>\n",
       "<style scoped>\n",
       "    .dataframe tbody tr th:only-of-type {\n",
       "        vertical-align: middle;\n",
       "    }\n",
       "\n",
       "    .dataframe tbody tr th {\n",
       "        vertical-align: top;\n",
       "    }\n",
       "\n",
       "    .dataframe thead th {\n",
       "        text-align: right;\n",
       "    }\n",
       "</style>\n",
       "<table border=\"1\" class=\"dataframe\">\n",
       "  <thead>\n",
       "    <tr style=\"text-align: right;\">\n",
       "      <th></th>\n",
       "      <th>PDB code</th>\n",
       "      <th>resolution</th>\n",
       "      <th>release year</th>\n",
       "      <th>-logKd/Ki</th>\n",
       "      <th>Kd/Ki</th>\n",
       "      <th>reference</th>\n",
       "      <th>ligand name</th>\n",
       "    </tr>\n",
       "  </thead>\n",
       "  <tbody>\n",
       "    <tr>\n",
       "      <th>0</th>\n",
       "      <td>2r58</td>\n",
       "      <td>2.00</td>\n",
       "      <td>2007</td>\n",
       "      <td>2.00</td>\n",
       "      <td>Kd=10mM</td>\n",
       "      <td>2r58.pdf</td>\n",
       "      <td>MLY</td>\n",
       "    </tr>\n",
       "    <tr>\n",
       "      <th>1</th>\n",
       "      <td>3c2f</td>\n",
       "      <td>2.35</td>\n",
       "      <td>2008</td>\n",
       "      <td>2.00</td>\n",
       "      <td>Kd=10.1mM</td>\n",
       "      <td>3c2f.pdf</td>\n",
       "      <td>PRP</td>\n",
       "    </tr>\n",
       "    <tr>\n",
       "      <th>2</th>\n",
       "      <td>3g2y</td>\n",
       "      <td>1.31</td>\n",
       "      <td>2009</td>\n",
       "      <td>2.00</td>\n",
       "      <td>Ki=10mM</td>\n",
       "      <td>3g2y.pdf</td>\n",
       "      <td>GF4</td>\n",
       "    </tr>\n",
       "    <tr>\n",
       "      <th>3</th>\n",
       "      <td>3pce</td>\n",
       "      <td>2.06</td>\n",
       "      <td>1998</td>\n",
       "      <td>2.00</td>\n",
       "      <td>Ki=10mM</td>\n",
       "      <td>3pce.pdf</td>\n",
       "      <td>3HP</td>\n",
       "    </tr>\n",
       "    <tr>\n",
       "      <th>4</th>\n",
       "      <td>4qsu</td>\n",
       "      <td>1.90</td>\n",
       "      <td>2014</td>\n",
       "      <td>2.00</td>\n",
       "      <td>Kd=10mM</td>\n",
       "      <td>4qsu.pdf</td>\n",
       "      <td>TDR</td>\n",
       "    </tr>\n",
       "    <tr>\n",
       "      <th>...</th>\n",
       "      <td>...</td>\n",
       "      <td>...</td>\n",
       "      <td>...</td>\n",
       "      <td>...</td>\n",
       "      <td>...</td>\n",
       "      <td>...</td>\n",
       "      <td>...</td>\n",
       "    </tr>\n",
       "    <tr>\n",
       "      <th>5311</th>\n",
       "      <td>4f3c</td>\n",
       "      <td>1.93</td>\n",
       "      <td>2013</td>\n",
       "      <td>11.82</td>\n",
       "      <td>Ki=1.5pM</td>\n",
       "      <td>4f1w.pdf</td>\n",
       "      <td>BIG</td>\n",
       "    </tr>\n",
       "    <tr>\n",
       "      <th>5312</th>\n",
       "      <td>5bry</td>\n",
       "      <td>1.34</td>\n",
       "      <td>2015</td>\n",
       "      <td>11.82</td>\n",
       "      <td>Ki=0.0015nM</td>\n",
       "      <td>5bry.pdf</td>\n",
       "      <td>4UY</td>\n",
       "    </tr>\n",
       "    <tr>\n",
       "      <th>5313</th>\n",
       "      <td>1sl3</td>\n",
       "      <td>1.81</td>\n",
       "      <td>2004</td>\n",
       "      <td>11.85</td>\n",
       "      <td>Ki=1.4pM</td>\n",
       "      <td>1sl3.pdf</td>\n",
       "      <td>170</td>\n",
       "    </tr>\n",
       "    <tr>\n",
       "      <th>5314</th>\n",
       "      <td>1ctu</td>\n",
       "      <td>2.30</td>\n",
       "      <td>1995</td>\n",
       "      <td>11.92</td>\n",
       "      <td>Ki=1.2pM</td>\n",
       "      <td>1ctu.pdf</td>\n",
       "      <td>ZEB</td>\n",
       "    </tr>\n",
       "    <tr>\n",
       "      <th>5315</th>\n",
       "      <td>6e9a</td>\n",
       "      <td>1.22</td>\n",
       "      <td>2018</td>\n",
       "      <td>11.92</td>\n",
       "      <td>Ki=0.0012nM</td>\n",
       "      <td>6e7j.pdf</td>\n",
       "      <td>J0S</td>\n",
       "    </tr>\n",
       "  </tbody>\n",
       "</table>\n",
       "<p>5316 rows × 7 columns</p>\n",
       "</div>"
      ],
      "text/plain": [
       "     PDB code  resolution  release year  -logKd/Ki        Kd/Ki reference  \\\n",
       "0        2r58        2.00          2007       2.00      Kd=10mM  2r58.pdf   \n",
       "1        3c2f        2.35          2008       2.00    Kd=10.1mM  3c2f.pdf   \n",
       "2        3g2y        1.31          2009       2.00      Ki=10mM  3g2y.pdf   \n",
       "3        3pce        2.06          1998       2.00      Ki=10mM  3pce.pdf   \n",
       "4        4qsu        1.90          2014       2.00      Kd=10mM  4qsu.pdf   \n",
       "...       ...         ...           ...        ...          ...       ...   \n",
       "5311     4f3c        1.93          2013      11.82     Ki=1.5pM  4f1w.pdf   \n",
       "5312     5bry        1.34          2015      11.82  Ki=0.0015nM  5bry.pdf   \n",
       "5313     1sl3        1.81          2004      11.85     Ki=1.4pM  1sl3.pdf   \n",
       "5314     1ctu        2.30          1995      11.92     Ki=1.2pM  1ctu.pdf   \n",
       "5315     6e9a        1.22          2018      11.92  Ki=0.0012nM  6e7j.pdf   \n",
       "\n",
       "     ligand name  \n",
       "0            MLY  \n",
       "1            PRP  \n",
       "2            GF4  \n",
       "3            3HP  \n",
       "4            TDR  \n",
       "...          ...  \n",
       "5311         BIG  \n",
       "5312         4UY  \n",
       "5313         170  \n",
       "5314         ZEB  \n",
       "5315         J0S  \n",
       "\n",
       "[5316 rows x 7 columns]"
      ]
     },
     "execution_count": 1,
     "metadata": {},
     "output_type": "execute_result"
    }
   ],
   "source": [
    "from dataset import load_pdbbind_data_index\n",
    "import sys\n",
    "\n",
    "if sys.platform == 'linux':\n",
    "    index_location = '/home/longyuxi/Documents/mount/pdbbind-dataset/index/INDEX_refined_data.2020'\n",
    "else:\n",
    "    raise Exception\n",
    "\n",
    "index = load_pdbbind_data_index(index_location)\n",
    "\n",
    "## For debug purposes\n",
    "\n",
    "# index = index[:400]\n",
    "index"
   ]
  },
  {
   "cell_type": "code",
   "execution_count": 2,
   "metadata": {},
   "outputs": [
    {
     "data": {
      "text/plain": [
       "2.0"
      ]
     },
     "execution_count": 2,
     "metadata": {},
     "output_type": "execute_result"
    }
   ],
   "source": [
    "index.loc[2, '-logKd/Ki']"
   ]
  },
  {
   "cell_type": "markdown",
   "metadata": {},
   "source": [
    "## Dataloader"
   ]
  },
  {
   "cell_type": "code",
   "execution_count": 3,
   "metadata": {},
   "outputs": [],
   "source": [
    "import numpy as np\n",
    "import pytorch_lightning as pl\n",
    "import torch\n",
    "from torch.utils.data import DataLoader\n",
    "import torch.nn as nn\n",
    "import torch.nn.functional as F\n",
    "from models import SusNet\n",
    "\n",
    "from dataset import ProteinPersistenceHomologyDataset, CollapsedPairwiseOppositionDataset, ProteinHomologyDataModule"
   ]
  },
  {
   "cell_type": "code",
   "execution_count": 4,
   "metadata": {},
   "outputs": [
    {
     "name": "stderr",
     "output_type": "stream",
     "text": [
      "Global seed set to 123\n"
     ]
    }
   ],
   "source": [
    "cpod = CollapsedPairwiseOppositionDataset(index)\n",
    "\n",
    "ph, ba = cpod[1]"
   ]
  },
  {
   "cell_type": "code",
   "execution_count": 5,
   "metadata": {},
   "outputs": [
    {
     "data": {
      "text/plain": [
       "torch.Size([36, 201])"
      ]
     },
     "execution_count": 5,
     "metadata": {},
     "output_type": "execute_result"
    }
   ],
   "source": [
    "ph.shape"
   ]
  },
  {
   "cell_type": "code",
   "execution_count": 6,
   "metadata": {},
   "outputs": [],
   "source": [
    "# from pytorch_lightning.loggers import WandbLogger\n",
    "\n",
    "# wandb_logger = WandbLogger(project=\"Topos\")"
   ]
  },
  {
   "cell_type": "code",
   "execution_count": 7,
   "metadata": {},
   "outputs": [
    {
     "name": "stderr",
     "output_type": "stream",
     "text": [
      "Global seed set to 123\n",
      "GPU available: True (cuda), used: True\n",
      "TPU available: False, using: 0 TPU cores\n",
      "IPU available: False, using: 0 IPUs\n",
      "HPU available: False, using: 0 HPUs\n",
      "LOCAL_RANK: 0 - CUDA_VISIBLE_DEVICES: [0]\n",
      "\n",
      "   | Name      | Type       | Params\n",
      "------------------------------------------\n",
      "0  | c1        | Sequential | 15.7 K\n",
      "1  | c2        | Sequential | 62.4 K\n",
      "2  | pool      | AvgPool1d  | 0     \n",
      "3  | dropout   | Dropout1d  | 0     \n",
      "4  | c3        | Sequential | 124 K \n",
      "5  | c4        | Sequential | 249 K \n",
      "6  | d1        | Sequential | 29.5 M\n",
      "7  | d2        | Sequential | 4.2 M \n",
      "8  | d3        | Sequential | 4.2 M \n",
      "9  | dropout2  | Dropout1d  | 0     \n",
      "10 | fc        | Linear     | 2.0 K \n",
      "11 | criterion | MSELoss    | 0     \n",
      "------------------------------------------\n",
      "38.3 M    Trainable params\n",
      "0         Non-trainable params\n",
      "38.3 M    Total params\n",
      "153.359   Total estimated model params size (MB)\n"
     ]
    },
    {
     "data": {
      "application/vnd.jupyter.widget-view+json": {
       "model_id": "402d49a842a54868bf0650f1ac2c9a1b",
       "version_major": 2,
       "version_minor": 0
      },
      "text/plain": [
       "Sanity Checking: 0it [00:00, ?it/s]"
      ]
     },
     "metadata": {},
     "output_type": "display_data"
    },
    {
     "data": {
      "application/vnd.jupyter.widget-view+json": {
       "model_id": "63bdf6ff7e544888b073ca5495bb8883",
       "version_major": 2,
       "version_minor": 0
      },
      "text/plain": [
       "Training: 0it [00:00, ?it/s]"
      ]
     },
     "metadata": {},
     "output_type": "display_data"
    },
    {
     "data": {
      "application/vnd.jupyter.widget-view+json": {
       "model_id": "e4bf439085bd48c390afb257853d2fff",
       "version_major": 2,
       "version_minor": 0
      },
      "text/plain": [
       "Validation: 0it [00:00, ?it/s]"
      ]
     },
     "metadata": {},
     "output_type": "display_data"
    },
    {
     "data": {
      "application/vnd.jupyter.widget-view+json": {
       "model_id": "f5cacce668e543349472162ccae39435",
       "version_major": 2,
       "version_minor": 0
      },
      "text/plain": [
       "Validation: 0it [00:00, ?it/s]"
      ]
     },
     "metadata": {},
     "output_type": "display_data"
    }
   ],
   "source": [
    "sn = SusNet()\n",
    "# train_loader = DataLoader(CollapsedPairwiseOppositionDataset(index), batch_size=5, num_workers=12)\n",
    "datamodule = ProteinHomologyDataModule(index, batch_size=32)\n",
    "# trainer = pl.Trainer(max_epochs=10, logger=wandb_logger, log_every_n_steps=1)\n",
    "if sys.platform == 'linux':\n",
    "    trainer = pl.Trainer(max_epochs=10, accelerator='gpu', devices=1)\n",
    "else:\n",
    "    raise Exception\n",
    "\n",
    "trainer.fit(sn, datamodule=datamodule)"
   ]
  },
  {
   "cell_type": "markdown",
   "metadata": {},
   "source": [
    "## TODO: empirically determine whether it is the same to translate vs not to translate the ligand wrt protein"
   ]
  }
 ],
 "metadata": {
  "kernelspec": {
   "display_name": "Python 3.10.6 ('donaldlab')",
   "language": "python",
   "name": "python3"
  },
  "language_info": {
   "codemirror_mode": {
    "name": "ipython",
    "version": 3
   },
   "file_extension": ".py",
   "mimetype": "text/x-python",
   "name": "python",
   "nbconvert_exporter": "python",
   "pygments_lexer": "ipython3",
   "version": "3.10.6"
  },
  "orig_nbformat": 4,
  "vscode": {
   "interpreter": {
    "hash": "eb053224fcc5015ed8da6d479f2102b8601d2425275cb1ee3d0a28d0e1b86f1a"
   }
  }
 },
 "nbformat": 4,
 "nbformat_minor": 2
}
