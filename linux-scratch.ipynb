{
 "cells": [
  {
   "cell_type": "markdown",
   "metadata": {},
   "source": [
    "## Dataloader"
   ]
  },
  {
   "cell_type": "markdown",
   "metadata": {},
   "source": [
    "## Create index DataFrame"
   ]
  },
  {
   "cell_type": "code",
   "execution_count": 1,
   "metadata": {},
   "outputs": [
    {
     "data": {
      "text/html": [
       "<div>\n",
       "<style scoped>\n",
       "    .dataframe tbody tr th:only-of-type {\n",
       "        vertical-align: middle;\n",
       "    }\n",
       "\n",
       "    .dataframe tbody tr th {\n",
       "        vertical-align: top;\n",
       "    }\n",
       "\n",
       "    .dataframe thead th {\n",
       "        text-align: right;\n",
       "    }\n",
       "</style>\n",
       "<table border=\"1\" class=\"dataframe\">\n",
       "  <thead>\n",
       "    <tr style=\"text-align: right;\">\n",
       "      <th></th>\n",
       "      <th>PDB code</th>\n",
       "      <th>resolution</th>\n",
       "      <th>release year</th>\n",
       "      <th>-logKd/Ki</th>\n",
       "      <th>Kd/Ki</th>\n",
       "      <th>reference</th>\n",
       "      <th>ligand name</th>\n",
       "      <th>homology calculated?</th>\n",
       "    </tr>\n",
       "  </thead>\n",
       "  <tbody>\n",
       "    <tr>\n",
       "      <th>0</th>\n",
       "      <td>2r58</td>\n",
       "      <td>2.00</td>\n",
       "      <td>2007</td>\n",
       "      <td>2.0</td>\n",
       "      <td>Kd=10mM</td>\n",
       "      <td>2r58.pdf</td>\n",
       "      <td>MLY</td>\n",
       "      <td>False</td>\n",
       "    </tr>\n",
       "    <tr>\n",
       "      <th>1</th>\n",
       "      <td>3c2f</td>\n",
       "      <td>2.35</td>\n",
       "      <td>2008</td>\n",
       "      <td>2.0</td>\n",
       "      <td>Kd=10.1mM</td>\n",
       "      <td>3c2f.pdf</td>\n",
       "      <td>PRP</td>\n",
       "      <td>False</td>\n",
       "    </tr>\n",
       "    <tr>\n",
       "      <th>2</th>\n",
       "      <td>3g2y</td>\n",
       "      <td>1.31</td>\n",
       "      <td>2009</td>\n",
       "      <td>2.0</td>\n",
       "      <td>Ki=10mM</td>\n",
       "      <td>3g2y.pdf</td>\n",
       "      <td>GF4</td>\n",
       "      <td>False</td>\n",
       "    </tr>\n",
       "    <tr>\n",
       "      <th>3</th>\n",
       "      <td>3pce</td>\n",
       "      <td>2.06</td>\n",
       "      <td>1998</td>\n",
       "      <td>2.0</td>\n",
       "      <td>Ki=10mM</td>\n",
       "      <td>3pce.pdf</td>\n",
       "      <td>3HP</td>\n",
       "      <td>False</td>\n",
       "    </tr>\n",
       "    <tr>\n",
       "      <th>4</th>\n",
       "      <td>4qsu</td>\n",
       "      <td>1.90</td>\n",
       "      <td>2014</td>\n",
       "      <td>2.0</td>\n",
       "      <td>Kd=10mM</td>\n",
       "      <td>4qsu.pdf</td>\n",
       "      <td>TDR</td>\n",
       "      <td>False</td>\n",
       "    </tr>\n",
       "  </tbody>\n",
       "</table>\n",
       "</div>"
      ],
      "text/plain": [
       "  PDB code  resolution  release year  -logKd/Ki      Kd/Ki reference  \\\n",
       "0     2r58        2.00          2007        2.0    Kd=10mM  2r58.pdf   \n",
       "1     3c2f        2.35          2008        2.0  Kd=10.1mM  3c2f.pdf   \n",
       "2     3g2y        1.31          2009        2.0    Ki=10mM  3g2y.pdf   \n",
       "3     3pce        2.06          1998        2.0    Ki=10mM  3pce.pdf   \n",
       "4     4qsu        1.90          2014        2.0    Kd=10mM  4qsu.pdf   \n",
       "\n",
       "  ligand name  homology calculated?  \n",
       "0         MLY                 False  \n",
       "1         PRP                 False  \n",
       "2         GF4                 False  \n",
       "3         3HP                 False  \n",
       "4         TDR                 False  "
      ]
     },
     "execution_count": 1,
     "metadata": {},
     "output_type": "execute_result"
    }
   ],
   "source": [
    "from dataset import load_pdbbind_data_index\n",
    "\n",
    "index_location = '/home/longyuxi/Documents/mount/pdbbind-dataset/index/INDEX_refined_data.2020'\n",
    "index = load_pdbbind_data_index(index_location)\n",
    "\n",
    "## For debug purposes\n",
    "\n",
    "index = index[:5]\n",
    "index"
   ]
  },
  {
   "cell_type": "markdown",
   "metadata": {},
   "source": [
    "### Calculating the persistence diagram of each of the coordinates and storing them"
   ]
  },
  {
   "cell_type": "code",
   "execution_count": 2,
   "metadata": {},
   "outputs": [],
   "source": [
    "from genericpath import isfile\n",
    "from pathlib import Path\n",
    "\n",
    "# for each item, calculate the persistence homology of it\n",
    "output_folder = 'computed_homologies'\n",
    "\n",
    "# get pdb file for both things\n",
    "base_folder = Path(index_location).parent.parent / 'refined-set'\n",
    "\n",
    "# list of commands to be run by GNU parallel\n",
    "python_interpreter = '/home/longyuxi/miniconda3/envs/donaldlab/bin/python'\n",
    "homology_calculator_location = '/home/longyuxi/Documents/protein-conformation-topology/calculate_homology.py'\n",
    "commands = ''\n",
    "\n",
    "# for any of the files, if they don't exist, calculate homology for it\n",
    "# (append a line to run the homology calculation file to it) TODO\n",
    "for idx, row in index.iterrows():\n",
    "    pdb_name = row['PDB code']\n",
    "    diagram_output_folder = Path(output_folder) / pdb_name\n",
    "    diagram_output_folder.mkdir(parents=True, exist_ok=True)\n",
    "\n",
    "    # protein\n",
    "    if not (diagram_output_folder / 'protein.pckl').is_file():\n",
    "        protein_pdb = base_folder / pdb_name / f'{pdb_name}_protein.pdb'\n",
    "        commands += f'{python_interpreter} {homology_calculator_location} --input {str(protein_pdb)} --output {str(diagram_output_folder / \"protein.pckl\")}\\n'\n",
    "\n",
    "    # pocket\n",
    "    if not (diagram_output_folder / 'pocket.pckl').is_file():\n",
    "        pocket_pdb = base_folder / pdb_name / f'{pdb_name}_pocket.pdb'\n",
    "        commands += f'{python_interpreter} {homology_calculator_location} --input {str(pocket_pdb)} --output {str(diagram_output_folder / \"pocket.pckl\")}\\n'\n",
    "\n",
    "\n",
    "    # ligand\n",
    "    if not (diagram_output_folder / 'ligand.pckl').is_file():\n",
    "        ligand_mol2 = base_folder / pdb_name / f'{pdb_name}_ligand.mol2'\n",
    "        commands += f'{python_interpreter} {homology_calculator_location} --input {str(ligand_mol2)} --output {str(diagram_output_folder / \"ligand.pckl\")}\\n'\n",
    "\n",
    "\n",
    "with open('cmds.tmp', 'w') as cf:\n",
    "    cf.write(commands)"
   ]
  }
 ],
 "metadata": {
  "kernelspec": {
   "display_name": "Python 3.10.6 ('donaldlab')",
   "language": "python",
   "name": "python3"
  },
  "language_info": {
   "codemirror_mode": {
    "name": "ipython",
    "version": 3
   },
   "file_extension": ".py",
   "mimetype": "text/x-python",
   "name": "python",
   "nbconvert_exporter": "python",
   "pygments_lexer": "ipython3",
   "version": "3.10.6"
  },
  "orig_nbformat": 4,
  "vscode": {
   "interpreter": {
    "hash": "eb053224fcc5015ed8da6d479f2102b8601d2425275cb1ee3d0a28d0e1b86f1a"
   }
  }
 },
 "nbformat": 4,
 "nbformat_minor": 2
}
